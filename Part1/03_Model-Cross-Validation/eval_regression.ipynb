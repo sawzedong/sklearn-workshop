{
 "cells": [
  {
   "cell_type": "code",
   "execution_count": 1,
   "metadata": {},
   "outputs": [],
   "source": [
    "import pandas as pd\n",
    "\n",
    "from sklearn.preprocessing import StandardScaler\n",
    "from sklearn.model_selection import train_test_split\n",
    "from sklearn import svm\n",
    "\n",
    "df = pd.read_csv(\"boston.csv\")\n",
    "\n",
    "# Split the data into features (X) and target (y)\n",
    "X = df.drop(['MEDV'], axis=1)\n",
    "y = df['MEDV']\n",
    "\n",
    "# Split the data into training and test sets\n",
    "X_train, X_test, y_train, y_test = train_test_split(X, y, test_size=0.2, random_state=42)\n",
    "scaler = StandardScaler()\n",
    "X_train = scaler.fit_transform(X_train)\n",
    "X_test = scaler.transform(X_test)\n",
    "\n",
    "svr = svm.SVR(\n",
    "    kernel='rbf', \n",
    "    gamma=0.1, \n",
    "    C=100, \n",
    "    epsilon=0.1\n",
    ")\n",
    "svr.fit(X_train, y_train)\n",
    "predictions = svr.predict(X_test)"
   ]
  },
  {
   "cell_type": "code",
   "execution_count": 2,
   "metadata": {},
   "outputs": [],
   "source": [
    "y_true = y_test\n",
    "y_pred = predictions"
   ]
  },
  {
   "cell_type": "code",
   "execution_count": 3,
   "metadata": {},
   "outputs": [
    {
     "name": "stdout",
     "output_type": "stream",
     "text": [
      "Mean of MEDV: 22.532806324110698\n",
      "MSE 12.552047657078996\n",
      "RMSE 3.542886910004184\n",
      "MAE 2.171494583326088\n"
     ]
    }
   ],
   "source": [
    "from sklearn.metrics import mean_squared_error, root_mean_squared_error, mean_absolute_error\n",
    "\n",
    "# Predict values\n",
    "print(\"Mean of MEDV:\", sum(list(y))/len(y))\n",
    "print(\"MSE\", mean_squared_error(y_test, y_pred))\n",
    "print(\"RMSE\", root_mean_squared_error(y_test, y_pred))\n",
    "print(\"MAE\", mean_absolute_error(y_test, y_pred))"
   ]
  }
 ],
 "metadata": {
  "kernelspec": {
   "display_name": "venv",
   "language": "python",
   "name": "python3"
  },
  "language_info": {
   "codemirror_mode": {
    "name": "ipython",
    "version": 3
   },
   "file_extension": ".py",
   "mimetype": "text/x-python",
   "name": "python",
   "nbconvert_exporter": "python",
   "pygments_lexer": "ipython3",
   "version": "3.11.3"
  }
 },
 "nbformat": 4,
 "nbformat_minor": 2
}
